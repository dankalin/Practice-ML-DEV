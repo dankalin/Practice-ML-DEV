{
 "cells": [
  {
   "cell_type": "code",
   "execution_count": 38,
   "id": "3ec7d7fd-114d-4a41-a85b-bb7341f436b5",
   "metadata": {},
   "outputs": [],
   "source": [
    "import pandas as pd\n",
    "from catboost import CatBoostClassifier\n",
    "import sklearn\n",
    "import joblib\n",
    "import os\n",
    "import sklearn.preprocessing as preprocessing\n",
    "import sklearn.model_selection as model_selection\n",
    "import sklearn.ensemble as ensemble\n",
    "import sklearn.metrics as metrics\n",
    "import sklearn.pipeline as pipeline\n",
    "from sklearn.metrics import classification_report\n",
    "from sklearn.feature_extraction.text import TfidfVectorizer\n",
    "from sklearn.pipeline import Pipeline\n",
    "from sklearn.naive_bayes import MultinomialNB"
   ]
  },
  {
   "cell_type": "code",
   "execution_count": 19,
   "id": "f629b4f1-da05-4245-9553-19bdbdf562c8",
   "metadata": {},
   "outputs": [
    {
     "data": {
      "text/html": [
       "<div>\n",
       "<style scoped>\n",
       "    .dataframe tbody tr th:only-of-type {\n",
       "        vertical-align: middle;\n",
       "    }\n",
       "\n",
       "    .dataframe tbody tr th {\n",
       "        vertical-align: top;\n",
       "    }\n",
       "\n",
       "    .dataframe thead th {\n",
       "        text-align: right;\n",
       "    }\n",
       "</style>\n",
       "<table border=\"1\" class=\"dataframe\">\n",
       "  <thead>\n",
       "    <tr style=\"text-align: right;\">\n",
       "      <th></th>\n",
       "      <th>Product ID</th>\n",
       "      <th>Product Title</th>\n",
       "      <th>Merchant ID</th>\n",
       "      <th>Cluster ID</th>\n",
       "      <th>Cluster Label</th>\n",
       "      <th>Category ID</th>\n",
       "      <th>Category Label</th>\n",
       "    </tr>\n",
       "  </thead>\n",
       "  <tbody>\n",
       "    <tr>\n",
       "      <th>0</th>\n",
       "      <td>1</td>\n",
       "      <td>apple iphone 8 plus 64gb silver</td>\n",
       "      <td>1</td>\n",
       "      <td>1</td>\n",
       "      <td>Apple iPhone 8 Plus 64GB</td>\n",
       "      <td>2612</td>\n",
       "      <td>Mobile Phones</td>\n",
       "    </tr>\n",
       "    <tr>\n",
       "      <th>1</th>\n",
       "      <td>2</td>\n",
       "      <td>apple iphone 8 plus 64 gb spacegrau</td>\n",
       "      <td>2</td>\n",
       "      <td>1</td>\n",
       "      <td>Apple iPhone 8 Plus 64GB</td>\n",
       "      <td>2612</td>\n",
       "      <td>Mobile Phones</td>\n",
       "    </tr>\n",
       "    <tr>\n",
       "      <th>2</th>\n",
       "      <td>3</td>\n",
       "      <td>apple mq8n2b/a iphone 8 plus 64gb 5.5 12mp sim...</td>\n",
       "      <td>3</td>\n",
       "      <td>1</td>\n",
       "      <td>Apple iPhone 8 Plus 64GB</td>\n",
       "      <td>2612</td>\n",
       "      <td>Mobile Phones</td>\n",
       "    </tr>\n",
       "    <tr>\n",
       "      <th>3</th>\n",
       "      <td>4</td>\n",
       "      <td>apple iphone 8 plus 64gb space grey</td>\n",
       "      <td>4</td>\n",
       "      <td>1</td>\n",
       "      <td>Apple iPhone 8 Plus 64GB</td>\n",
       "      <td>2612</td>\n",
       "      <td>Mobile Phones</td>\n",
       "    </tr>\n",
       "    <tr>\n",
       "      <th>4</th>\n",
       "      <td>5</td>\n",
       "      <td>apple iphone 8 plus gold 5.5 64gb 4g unlocked ...</td>\n",
       "      <td>5</td>\n",
       "      <td>1</td>\n",
       "      <td>Apple iPhone 8 Plus 64GB</td>\n",
       "      <td>2612</td>\n",
       "      <td>Mobile Phones</td>\n",
       "    </tr>\n",
       "  </tbody>\n",
       "</table>\n",
       "</div>"
      ],
      "text/plain": [
       "   Product ID                                      Product Title  \\\n",
       "0           1                    apple iphone 8 plus 64gb silver   \n",
       "1           2                apple iphone 8 plus 64 gb spacegrau   \n",
       "2           3  apple mq8n2b/a iphone 8 plus 64gb 5.5 12mp sim...   \n",
       "3           4                apple iphone 8 plus 64gb space grey   \n",
       "4           5  apple iphone 8 plus gold 5.5 64gb 4g unlocked ...   \n",
       "\n",
       "    Merchant ID   Cluster ID             Cluster Label   Category ID  \\\n",
       "0             1            1  Apple iPhone 8 Plus 64GB          2612   \n",
       "1             2            1  Apple iPhone 8 Plus 64GB          2612   \n",
       "2             3            1  Apple iPhone 8 Plus 64GB          2612   \n",
       "3             4            1  Apple iPhone 8 Plus 64GB          2612   \n",
       "4             5            1  Apple iPhone 8 Plus 64GB          2612   \n",
       "\n",
       "   Category Label  \n",
       "0   Mobile Phones  \n",
       "1   Mobile Phones  \n",
       "2   Mobile Phones  \n",
       "3   Mobile Phones  \n",
       "4   Mobile Phones  "
      ]
     },
     "execution_count": 19,
     "metadata": {},
     "output_type": "execute_result"
    }
   ],
   "source": [
    "df = pd.read_csv(\"dataset2.zip\")\n",
    "df.head()"
   ]
  },
  {
   "cell_type": "code",
   "execution_count": 11,
   "id": "8891d449-506f-4f62-9f85-62f83ce4e60e",
   "metadata": {},
   "outputs": [
    {
     "data": {
      "text/html": [
       "<div>\n",
       "<style scoped>\n",
       "    .dataframe tbody tr th:only-of-type {\n",
       "        vertical-align: middle;\n",
       "    }\n",
       "\n",
       "    .dataframe tbody tr th {\n",
       "        vertical-align: top;\n",
       "    }\n",
       "\n",
       "    .dataframe thead th {\n",
       "        text-align: right;\n",
       "    }\n",
       "</style>\n",
       "<table border=\"1\" class=\"dataframe\">\n",
       "  <thead>\n",
       "    <tr style=\"text-align: right;\">\n",
       "      <th></th>\n",
       "      <th>Product ID</th>\n",
       "      <th>Merchant ID</th>\n",
       "      <th>Cluster ID</th>\n",
       "      <th>Category ID</th>\n",
       "    </tr>\n",
       "  </thead>\n",
       "  <tbody>\n",
       "    <tr>\n",
       "      <th>count</th>\n",
       "      <td>35311.000000</td>\n",
       "      <td>35311.000000</td>\n",
       "      <td>35311.000000</td>\n",
       "      <td>35311.000000</td>\n",
       "    </tr>\n",
       "    <tr>\n",
       "      <th>mean</th>\n",
       "      <td>26150.800176</td>\n",
       "      <td>120.501883</td>\n",
       "      <td>30110.687633</td>\n",
       "      <td>2618.142930</td>\n",
       "    </tr>\n",
       "    <tr>\n",
       "      <th>std</th>\n",
       "      <td>13498.191220</td>\n",
       "      <td>117.045557</td>\n",
       "      <td>18410.265642</td>\n",
       "      <td>3.600708</td>\n",
       "    </tr>\n",
       "    <tr>\n",
       "      <th>min</th>\n",
       "      <td>1.000000</td>\n",
       "      <td>1.000000</td>\n",
       "      <td>1.000000</td>\n",
       "      <td>2612.000000</td>\n",
       "    </tr>\n",
       "    <tr>\n",
       "      <th>25%</th>\n",
       "      <td>14958.500000</td>\n",
       "      <td>17.000000</td>\n",
       "      <td>6123.000000</td>\n",
       "      <td>2615.000000</td>\n",
       "    </tr>\n",
       "    <tr>\n",
       "      <th>50%</th>\n",
       "      <td>27614.000000</td>\n",
       "      <td>75.000000</td>\n",
       "      <td>40630.000000</td>\n",
       "      <td>2619.000000</td>\n",
       "    </tr>\n",
       "    <tr>\n",
       "      <th>75%</th>\n",
       "      <td>37508.500000</td>\n",
       "      <td>253.000000</td>\n",
       "      <td>44059.000000</td>\n",
       "      <td>2622.000000</td>\n",
       "    </tr>\n",
       "    <tr>\n",
       "      <th>max</th>\n",
       "      <td>47358.000000</td>\n",
       "      <td>371.000000</td>\n",
       "      <td>47525.000000</td>\n",
       "      <td>2623.000000</td>\n",
       "    </tr>\n",
       "  </tbody>\n",
       "</table>\n",
       "</div>"
      ],
      "text/plain": [
       "         Product ID   Merchant ID    Cluster ID   Category ID\n",
       "count  35311.000000  35311.000000  35311.000000  35311.000000\n",
       "mean   26150.800176    120.501883  30110.687633   2618.142930\n",
       "std    13498.191220    117.045557  18410.265642      3.600708\n",
       "min        1.000000      1.000000      1.000000   2612.000000\n",
       "25%    14958.500000     17.000000   6123.000000   2615.000000\n",
       "50%    27614.000000     75.000000  40630.000000   2619.000000\n",
       "75%    37508.500000    253.000000  44059.000000   2622.000000\n",
       "max    47358.000000    371.000000  47525.000000   2623.000000"
      ]
     },
     "execution_count": 11,
     "metadata": {},
     "output_type": "execute_result"
    }
   ],
   "source": [
    "df.describe()"
   ]
  },
  {
   "cell_type": "code",
   "execution_count": 20,
   "id": "adf8b295-5a57-49b2-b594-55d826847219",
   "metadata": {},
   "outputs": [
    {
     "name": "stdout",
     "output_type": "stream",
     "text": [
      "(2612, \"Mobile Phones\"),\n",
      "(2614, \"TVs\"),\n",
      "(2615, \"CPUs\"),\n",
      "(2617, \"Digital Cameras\"),\n",
      "(2618, \"Microwaves\"),\n",
      "(2619, \"Dishwashers\"),\n",
      "(2620, \"Washing Machines\"),\n",
      "(2621, \"Freezers\"),\n",
      "(2622, \"Fridge Freezers\"),\n",
      "(2623, \"Fridges\"),\n"
     ]
    },
    {
     "data": {
      "text/plain": [
       "0        None\n",
       "4081     None\n",
       "7645     None\n",
       "11507    None\n",
       "14204    None\n",
       "16546    None\n",
       "19970    None\n",
       "24014    None\n",
       "26226    None\n",
       "31727    None\n",
       "dtype: object"
      ]
     },
     "execution_count": 20,
     "metadata": {},
     "output_type": "execute_result"
    }
   ],
   "source": [
    "df[[\" Category ID\", \" Category Label\"]].drop_duplicates().apply(\n",
    "    lambda row: print(f'({row[\" Category ID\"]}, \"{row[\" Category Label\"]}\"),'),\n",
    "    axis=1\n",
    ")"
   ]
  },
  {
   "cell_type": "code",
   "execution_count": 22,
   "id": "c33a93a9-11fa-4a3e-9f11-e37985d80256",
   "metadata": {},
   "outputs": [],
   "source": [
    "X = df[\" Cluster Label\"]\n",
    "y = df[\" Category ID\"]\n",
    "\n",
    "X_train, X_test, y_train, y_test = model_selection.train_test_split(\n",
    "X, y, test_size=0.2, random_state=42\n",
    ")\n",
    "\n",
    "pipe = pipeline.Pipeline(\n",
    "[\n",
    "(\n",
    "\"encoder\",\n",
    "preprocessing.OneHotEncoder(handle_unknown=\"ignore\"),\n",
    "),\n",
    "(\"model\", ensemble.GradientBoostingClassifier()),\n",
    "]\n",
    ")"
   ]
  },
  {
   "cell_type": "code",
   "execution_count": 24,
   "id": "52a30561-deae-4912-aa2a-bd6be9929ac4",
   "metadata": {},
   "outputs": [
    {
     "data": {
      "text/plain": [
       "0.3972816083817075"
      ]
     },
     "execution_count": 24,
     "metadata": {},
     "output_type": "execute_result"
    }
   ],
   "source": [
    "pipe.fit(pd.DataFrame(X_train), y_train)\n",
    "\n",
    "pipe.score(pd.DataFrame(X_test), y_test)"
   ]
  },
  {
   "cell_type": "code",
   "execution_count": 28,
   "id": "f1a03fae-b962-47cf-abef-05ed9b4624a6",
   "metadata": {},
   "outputs": [
    {
     "data": {
      "text/plain": [
       "['base.joblib']"
      ]
     },
     "execution_count": 28,
     "metadata": {},
     "output_type": "execute_result"
    }
   ],
   "source": [
    "joblib.dump(pipe,\"base.joblib\")"
   ]
  },
  {
   "cell_type": "code",
   "execution_count": 31,
   "id": "058163d0-2ae2-4ab4-9b90-be33fc66ba38",
   "metadata": {},
   "outputs": [],
   "source": [
    "X = df[\" Cluster Label\"]\n",
    "y = df[\" Category ID\"]\n",
    "\n",
    "X_train, X_test, y_train, y_test = model_selection.train_test_split(\n",
    "    X, y, test_size=0.2, random_state=42\n",
    ")"
   ]
  },
  {
   "cell_type": "code",
   "execution_count": 36,
   "id": "8232dd8f-21d5-496c-9410-d805b3a337fc",
   "metadata": {},
   "outputs": [
    {
     "name": "stdout",
     "output_type": "stream",
     "text": [
      "              precision    recall  f1-score   support\n",
      "\n",
      "        2612       1.00      0.98      0.99       818\n",
      "        2614       0.96      0.99      0.97       723\n",
      "        2615       1.00      1.00      1.00       771\n",
      "        2617       1.00      0.99      1.00       542\n",
      "        2618       0.91      0.73      0.81       469\n",
      "        2619       0.87      0.72      0.79       662\n",
      "        2620       0.99      0.90      0.94       796\n",
      "        2621       0.99      0.55      0.70       439\n",
      "        2622       0.64      0.97      0.77      1115\n",
      "        2623       0.92      0.79      0.85       728\n",
      "\n",
      "    accuracy                           0.89      7063\n",
      "   macro avg       0.93      0.86      0.88      7063\n",
      "weighted avg       0.91      0.89      0.89      7063\n",
      "\n"
     ]
    }
   ],
   "source": [
    "pipe = Pipeline(\n",
    "    [\n",
    "        (\"tfidf\", TfidfVectorizer()),\n",
    "        (\"clf\", MultinomialNB()),\n",
    "    ]\n",
    ")\n",
    "\n",
    "pipe.fit(X_train, y_train)\n",
    "preditions = pipe.predict(X_test)\n",
    "\n",
    "print(classification_report(y_test, preditions))"
   ]
  },
  {
   "cell_type": "code",
   "execution_count": 37,
   "id": "78ce6782-bc03-4276-9030-4128f11e0392",
   "metadata": {},
   "outputs": [
    {
     "data": {
      "text/plain": [
       "['tfidf.joblib']"
      ]
     },
     "execution_count": 37,
     "metadata": {},
     "output_type": "execute_result"
    }
   ],
   "source": [
    "joblib.dump(pipe, \"tfidf.joblib\")"
   ]
  },
  {
   "cell_type": "code",
   "execution_count": 42,
   "id": "eaac6a02-51a0-4d26-b2c0-b2c920673fff",
   "metadata": {},
   "outputs": [
    {
     "name": "stdout",
     "output_type": "stream",
     "text": [
      "              precision    recall  f1-score   support\n",
      "\n",
      "        2612       1.00      0.97      0.98       818\n",
      "        2614       0.90      1.00      0.95       723\n",
      "        2615       1.00      1.00      1.00       771\n",
      "        2617       1.00      0.99      0.99       542\n",
      "        2618       0.87      0.74      0.80       469\n",
      "        2619       0.57      0.75      0.65       662\n",
      "        2620       0.94      0.94      0.94       796\n",
      "        2621       0.71      0.61      0.66       439\n",
      "        2622       0.74      0.70      0.72      1115\n",
      "        2623       0.72      0.66      0.69       728\n",
      "\n",
      "    accuracy                           0.84      7063\n",
      "   macro avg       0.84      0.84      0.84      7063\n",
      "weighted avg       0.85      0.84      0.84      7063\n",
      "\n"
     ]
    }
   ],
   "source": [
    "X = pd.DataFrame(df[\" Cluster Label\"])\n",
    "y = df[\" Category ID\"]\n",
    "\n",
    "X_train, X_test, y_train, y_test = model_selection.train_test_split(\n",
    "    X, y, test_size=0.2, random_state=42\n",
    ")\n",
    "\n",
    "cat = CatBoostClassifier(\n",
    "    learning_rate=0.01,\n",
    "    random_seed=42,\n",
    "    task_type=\"GPU\",\n",
    "    text_features=[\" Cluster Label\"],\n",
    "    logging_level=\"Silent\"\n",
    ")\n",
    "\n",
    "cat.fit(X_train, y_train)\n",
    "pred = cat.predict(X_test)\n",
    "\n",
    "print(classification_report(y_test, pred))"
   ]
  },
  {
   "cell_type": "code",
   "execution_count": 43,
   "id": "e105c984-012e-48b1-b853-bf5d6e8e7014",
   "metadata": {},
   "outputs": [],
   "source": [
    "cat.save_model(\"catboost.model\")"
   ]
  },
  {
   "cell_type": "code",
   "execution_count": 56,
   "id": "fdfc483d-0cd7-419f-8522-e6434736cc85",
   "metadata": {},
   "outputs": [
    {
     "data": {
      "text/plain": [
       "array([2614], dtype=int64)"
      ]
     },
     "execution_count": 56,
     "metadata": {},
     "output_type": "execute_result"
    }
   ],
   "source": [
    "def catboost_model_predict(data: pd.DataFrame):\n",
    "    return catboost_model.predict(data)\n",
    "\n",
    "catboost_model = catboost.CatBoostClassifier().load_model(\"catboost.model\")\n",
    "catboost_model_predict([\"123\"])"
   ]
  },
  {
   "cell_type": "code",
   "execution_count": 59,
   "id": "342e6a3f-1c6b-4269-9221-dfb80e85a036",
   "metadata": {},
   "outputs": [],
   "source": [
    "dataframe = pd.DataFrame([\"apple\"])"
   ]
  },
  {
   "cell_type": "code",
   "execution_count": 63,
   "id": "333a879c-1505-4f94-914d-efb3b882514d",
   "metadata": {},
   "outputs": [
    {
     "name": "stdout",
     "output_type": "stream",
     "text": [
      "[2614]\n"
     ]
    }
   ],
   "source": [
    "print(catboost_model_predict([\"apple\"]))"
   ]
  },
  {
   "cell_type": "code",
   "execution_count": null,
   "id": "868fcd1f-8e31-45d1-8ae0-85be008fd5fb",
   "metadata": {},
   "outputs": [],
   "source": []
  }
 ],
 "metadata": {
  "kernelspec": {
   "display_name": "Python 3 (ipykernel)",
   "language": "python",
   "name": "python3"
  },
  "language_info": {
   "codemirror_mode": {
    "name": "ipython",
    "version": 3
   },
   "file_extension": ".py",
   "mimetype": "text/x-python",
   "name": "python",
   "nbconvert_exporter": "python",
   "pygments_lexer": "ipython3",
   "version": "3.10.13"
  }
 },
 "nbformat": 4,
 "nbformat_minor": 5
}
